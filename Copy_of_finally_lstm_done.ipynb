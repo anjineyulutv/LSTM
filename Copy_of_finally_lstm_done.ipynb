{
 "cells": [
  {
   "cell_type": "code",
   "execution_count": 0,
   "metadata": {
    "colab": {
     "base_uri": "https://localhost:8080/",
     "height": 35
    },
    "colab_type": "code",
    "id": "bcuJFM-iKyVf",
    "outputId": "13316c76-7a03-4be5-ff2a-6a0ee2ea275a"
   },
   "outputs": [
    {
     "data": {
      "text/plain": [
       "'/device:GPU:0'"
      ]
     },
     "execution_count": 4,
     "metadata": {
      "tags": []
     },
     "output_type": "execute_result"
    }
   ],
   "source": [
    "import tensorflow as tf\n",
    "tf.test.gpu_device_name()"
   ]
  },
  {
   "cell_type": "code",
   "execution_count": 0,
   "metadata": {
    "colab": {
     "base_uri": "https://localhost:8080/",
     "height": 35
    },
    "colab_type": "code",
    "id": "QhxwSjk7r-ui",
    "outputId": "20a567e5-1b9b-4c6c-e50b-b01c4d1b0c82"
   },
   "outputs": [
    {
     "name": "stdout",
     "output_type": "stream",
     "text": [
      "Drive already mounted at /content/drive; to attempt to forcibly remount, call drive.mount(\"/content/drive\", force_remount=True).\n"
     ]
    }
   ],
   "source": [
    "from google.colab import drive\n",
    "drive.mount('/content/drive')"
   ]
  },
  {
   "cell_type": "code",
   "execution_count": 0,
   "metadata": {
    "colab": {},
    "colab_type": "code",
    "id": "D2gbOOegCssL"
   },
   "outputs": [],
   "source": [
    "import pandas as pd"
   ]
  },
  {
   "cell_type": "code",
   "execution_count": 0,
   "metadata": {
    "colab": {},
    "colab_type": "code",
    "id": "2-9oOeHTuWN3"
   },
   "outputs": [],
   "source": [
    "final=pd.read_csv(r\"drive/My Drive/preprocessed_reviews.csv\")"
   ]
  },
  {
   "cell_type": "code",
   "execution_count": 0,
   "metadata": {
    "colab": {
     "base_uri": "https://localhost:8080/",
     "height": 200
    },
    "colab_type": "code",
    "id": "KRWuMom6ujkh",
    "outputId": "5b9f00d2-d060-4bcf-c90f-e0f985e95adb"
   },
   "outputs": [
    {
     "data": {
      "text/html": [
       "<div>\n",
       "<style scoped>\n",
       "    .dataframe tbody tr th:only-of-type {\n",
       "        vertical-align: middle;\n",
       "    }\n",
       "\n",
       "    .dataframe tbody tr th {\n",
       "        vertical-align: top;\n",
       "    }\n",
       "\n",
       "    .dataframe thead th {\n",
       "        text-align: right;\n",
       "    }\n",
       "</style>\n",
       "<table border=\"1\" class=\"dataframe\">\n",
       "  <thead>\n",
       "    <tr style=\"text-align: right;\">\n",
       "      <th></th>\n",
       "      <th>s.no</th>\n",
       "      <th>review_text</th>\n",
       "    </tr>\n",
       "  </thead>\n",
       "  <tbody>\n",
       "    <tr>\n",
       "      <th>0</th>\n",
       "      <td>22620</td>\n",
       "      <td>dogs loves chicken product china wont buying a...</td>\n",
       "    </tr>\n",
       "    <tr>\n",
       "      <th>1</th>\n",
       "      <td>22621</td>\n",
       "      <td>dogs love saw pet store tag attached regarding...</td>\n",
       "    </tr>\n",
       "    <tr>\n",
       "      <th>2</th>\n",
       "      <td>70677</td>\n",
       "      <td>infestation fruitflies literally everywhere fl...</td>\n",
       "    </tr>\n",
       "    <tr>\n",
       "      <th>3</th>\n",
       "      <td>70676</td>\n",
       "      <td>worst product gotten long time would rate no s...</td>\n",
       "    </tr>\n",
       "    <tr>\n",
       "      <th>4</th>\n",
       "      <td>70675</td>\n",
       "      <td>wish would read reviews making purchase basica...</td>\n",
       "    </tr>\n",
       "  </tbody>\n",
       "</table>\n",
       "</div>"
      ],
      "text/plain": [
       "    s.no                                        review_text\n",
       "0  22620  dogs loves chicken product china wont buying a...\n",
       "1  22621  dogs love saw pet store tag attached regarding...\n",
       "2  70677  infestation fruitflies literally everywhere fl...\n",
       "3  70676  worst product gotten long time would rate no s...\n",
       "4  70675  wish would read reviews making purchase basica..."
      ]
     },
     "execution_count": 8,
     "metadata": {
      "tags": []
     },
     "output_type": "execute_result"
    }
   ],
   "source": [
    "final.head(5)"
   ]
  },
  {
   "cell_type": "code",
   "execution_count": 0,
   "metadata": {
    "colab": {
     "base_uri": "https://localhost:8080/",
     "height": 35
    },
    "colab_type": "code",
    "id": "8X3vr3XWuoK8",
    "outputId": "a70ca6c6-151e-4505-a8a5-f43416fda814"
   },
   "outputs": [
    {
     "data": {
      "text/plain": [
       "pandas.core.series.Series"
      ]
     },
     "execution_count": 9,
     "metadata": {
      "tags": []
     },
     "output_type": "execute_result"
    }
   ],
   "source": [
    "type(final['review_text'])"
   ]
  },
  {
   "cell_type": "code",
   "execution_count": 0,
   "metadata": {
    "colab": {},
    "colab_type": "code",
    "id": "ZpqLhZfFzUgF"
   },
   "outputs": [],
   "source": [
    "final['review_text']=final['review_text'].astype('str')"
   ]
  },
  {
   "cell_type": "code",
   "execution_count": 0,
   "metadata": {
    "colab": {
     "base_uri": "https://localhost:8080/",
     "height": 52
    },
    "colab_type": "code",
    "id": "EqUuC3adu6uo",
    "outputId": "0e726c61-c855-4dfe-e955-08ed32d05082"
   },
   "outputs": [
    {
     "name": "stdout",
     "output_type": "stream",
     "text": [
      "CPU times: user 1.96 s, sys: 5.26 ms, total: 1.96 s\n",
      "Wall time: 1.97 s\n"
     ]
    }
   ],
   "source": [
    "#here in this code we are finding frequencies of each word\n",
    "%%time\n",
    "vocabulary=dict()  #declaring the variable as a dictionary \n",
    "for sentance in final['review_text'].values:\n",
    "    for word in sentance.split():\n",
    "        if word not in vocabulary.keys():\n",
    "              vocabulary[word]=1                      #initializing the words when it was not at all present\n",
    "        if word in vocabulary.keys():\n",
    "               vocabulary[word]+=1"
   ]
  },
  {
   "cell_type": "code",
   "execution_count": 0,
   "metadata": {
    "colab": {
     "base_uri": "https://localhost:8080/",
     "height": 35
    },
    "colab_type": "code",
    "id": "Qy68mamy46Qm",
    "outputId": "772a8fc9-9252-4954-cb5e-5bfeb04965cf"
   },
   "outputs": [
    {
     "name": "stdout",
     "output_type": "stream",
     "text": [
      "54922\n"
     ]
    }
   ],
   "source": [
    "print(len(vocabulary.keys()))"
   ]
  },
  {
   "cell_type": "code",
   "execution_count": 0,
   "metadata": {
    "colab": {},
    "colab_type": "code",
    "id": "qNcWHepovf5l"
   },
   "outputs": [],
   "source": [
    "#Reference:https://stackoverflow.com/questions/613183/how-do-i-sort-a-dictionary-by-value\n",
    "import operator\n",
    "desc_sort=sorted(vocabulary.items(),key=operator.itemgetter(1),reverse=True)     #Descending order"
   ]
  },
  {
   "cell_type": "code",
   "execution_count": 0,
   "metadata": {
    "colab": {},
    "colab_type": "code",
    "id": "dk6zXclGzwra"
   },
   "outputs": [],
   "source": [
    "top_freq=[]\n",
    "for i in range(10):\n",
    "    top_freq.append(desc_sort[i][0])"
   ]
  },
  {
   "cell_type": "code",
   "execution_count": 0,
   "metadata": {
    "colab": {
     "base_uri": "https://localhost:8080/",
     "height": 35
    },
    "colab_type": "code",
    "id": "IkqTyaQCz39T",
    "outputId": "034501ad-5d2a-470a-f258-564c64226735"
   },
   "outputs": [
    {
     "name": "stdout",
     "output_type": "stream",
     "text": [
      "['not', 'like', 'good', 'one', 'great', 'taste', 'would', 'coffee', 'product', 'flavor']\n"
     ]
    }
   ],
   "source": [
    "print(top_freq)"
   ]
  },
  {
   "cell_type": "code",
   "execution_count": 0,
   "metadata": {
    "colab": {},
    "colab_type": "code",
    "id": "fr-OTHihz7Yz"
   },
   "outputs": [],
   "source": [
    "import numpy as np\n",
    "top_freq=np.array(top_freq)"
   ]
  },
  {
   "cell_type": "code",
   "execution_count": 0,
   "metadata": {
    "colab": {},
    "colab_type": "code",
    "id": "c_ZQ-vNSz_T_"
   },
   "outputs": [],
   "source": [
    "index_freq=[]\n",
    "for i in range(10):\n",
    "    index_freq.append(desc_sort[i][1])"
   ]
  },
  {
   "cell_type": "code",
   "execution_count": 0,
   "metadata": {
    "colab": {},
    "colab_type": "code",
    "id": "E6-vDLkB0GsG"
   },
   "outputs": [],
   "source": [
    "index_rank=np.arange(10)"
   ]
  },
  {
   "cell_type": "code",
   "execution_count": 0,
   "metadata": {
    "colab": {},
    "colab_type": "code",
    "id": "qKHLyCmz0Kwl"
   },
   "outputs": [],
   "source": [
    "index_freq=np.array(index_freq)"
   ]
  },
  {
   "cell_type": "code",
   "execution_count": 0,
   "metadata": {
    "colab": {
     "base_uri": "https://localhost:8080/",
     "height": 35
    },
    "colab_type": "code",
    "id": "QTM-j1DF0OJH",
    "outputId": "0b67baeb-6e4a-488d-e6fe-a3d994f7a008"
   },
   "outputs": [
    {
     "name": "stdout",
     "output_type": "stream",
     "text": [
      "[0 1 2 3 4 5 6 7 8 9]\n"
     ]
    }
   ],
   "source": [
    "print(index_rank)"
   ]
  },
  {
   "cell_type": "code",
   "execution_count": 0,
   "metadata": {
    "colab": {
     "base_uri": "https://localhost:8080/",
     "height": 278
    },
    "colab_type": "code",
    "id": "l0BKSQ-y0Ul4",
    "outputId": "ed305cd7-cc12-4cca-9b00-058bf52dd479"
   },
   "outputs": [
    {
     "data": {
      "image/png": "[encoded data removed]",
      "text/plain": [
       "<Figure size 432x288 with 1 Axes>"
      ]
     },
     "metadata": {
      "tags": []
     },
     "output_type": "display_data"
    }
   ],
   "source": [
    "import matplotlib.pyplot as plt\n",
    "plt.bar(top_freq,index_freq)\n",
    "plt.xlabel('rank', fontsize=5)\n",
    "plt.ylabel('frequency', fontsize=5)\n",
    "#plt.xticks(index, label, fontsize=5, rotation=30)\n",
    "#plt.title('Market Share for Each Genre 1995-2017')\n",
    "plt.show()"
   ]
  },
  {
   "cell_type": "code",
   "execution_count": 0,
   "metadata": {
    "colab": {},
    "colab_type": "code",
    "id": "7tzUoPlF0XY6"
   },
   "outputs": [],
   "source": [
    "a=len(desc_sort)"
   ]
  },
  {
   "cell_type": "code",
   "execution_count": 0,
   "metadata": {
    "colab": {
     "base_uri": "https://localhost:8080/",
     "height": 35
    },
    "colab_type": "code",
    "id": "F5OVtGRR0suv",
    "outputId": "66fa075a-ea9c-46fa-a367-a882a7264206"
   },
   "outputs": [
    {
     "name": "stdout",
     "output_type": "stream",
     "text": [
      "54922\n"
     ]
    }
   ],
   "source": [
    "print(a)"
   ]
  },
  {
   "cell_type": "markdown",
   "metadata": {},
   "source": [
    "Now we will assign rank to each word in the text"
   ]
  },
  {
   "cell_type": "code",
   "execution_count": 0,
   "metadata": {
    "colab": {},
    "colab_type": "code",
    "id": "i0E1nMxP0vkl"
   },
   "outputs": [],
   "source": [
    "\n",
    "rank_dict=dict()\n",
    "rank_by_freq=1\n",
    "for k in range(a):\n",
    "    word=desc_sort[k][0]\n",
    "    rank_dict[word]=rank_by_freq\n",
    "    rank_by_freq=rank_by_freq+1\n"
   ]
  },
  {
   "cell_type": "code",
   "execution_count": 0,
   "metadata": {
    "colab": {},
    "colab_type": "code",
    "id": "z4nuiEfD0ztS"
   },
   "outputs": [],
   "source": [
    "#Here we transform the matrix by substituting the words by their ranks.\n",
    "converted_matrix=[]\n",
    "for sentance in final['review_text']:\n",
    "    vect_sent=[]\n",
    "    for k in sentance.split():\n",
    "        vect_sent.append(rank_dict[k])\n",
    "    converted_matrix.append(vect_sent)"
   ]
  },
  {
   "cell_type": "code",
   "execution_count": 0,
   "metadata": {
    "colab": {
     "base_uri": "https://localhost:8080/",
     "height": 35
    },
    "colab_type": "code",
    "id": "R73VIQ6L07XW",
    "outputId": "5d46b411-6b0c-4623-b3a3-6886360e19f6"
   },
   "outputs": [
    {
     "data": {
      "text/plain": [
       "87773"
      ]
     },
     "execution_count": 26,
     "metadata": {
      "tags": []
     },
     "output_type": "execute_result"
    }
   ],
   "source": [
    "len(converted_matrix)"
   ]
  },
  {
   "cell_type": "code",
   "execution_count": 0,
   "metadata": {
    "colab": {},
    "colab_type": "code",
    "id": "EdeWeFTD1BLq"
   },
   "outputs": [],
   "source": [
    "review=pd.read_csv(r\"drive/My Drive/Reviews.csv\")"
   ]
  },
  {
   "cell_type": "code",
   "execution_count": 0,
   "metadata": {
    "colab": {
     "base_uri": "https://localhost:8080/",
     "height": 35
    },
    "colab_type": "code",
    "id": "RNlYWLK83MWD",
    "outputId": "44a0a92e-114e-4db6-ff14-a1fdaba34b11"
   },
   "outputs": [
    {
     "data": {
      "text/plain": [
       "87773"
      ]
     },
     "execution_count": 28,
     "metadata": {
      "tags": []
     },
     "output_type": "execute_result"
    }
   ],
   "source": [
    "len(review['Score'])"
   ]
  },
  {
   "cell_type": "code",
   "execution_count": 0,
   "metadata": {
    "colab": {},
    "colab_type": "code",
    "id": "3Z7433gp1GlP"
   },
   "outputs": [],
   "source": [
    "from sklearn.model_selection import train_test_split\n",
    "X_train , X_test , Y_train , Y_test = train_test_split(converted_matrix,review['Score'],test_size = 0.3,random_state = 0,shuffle = False)"
   ]
  },
  {
   "cell_type": "code",
   "execution_count": 0,
   "metadata": {
    "colab": {},
    "colab_type": "code",
    "id": "mX6VoGPr32Lo"
   },
   "outputs": [],
   "source": [
    "# Credits: https://machinelearningmastery.com/sequence-classification-lstm-recurrent-neural-networks-python-keras/\n",
    "# LSTM for sequence classification in the IMDB dataset\n",
    "import numpy\n",
    "from keras.datasets import imdb\n",
    "from keras.models import Sequential\n",
    "from keras.layers import Dense\n",
    "from keras.layers import LSTM\n",
    "from keras.layers.embeddings import Embedding\n",
    "from keras.preprocessing import sequence\n",
    "from keras.layers import Dropout\n",
    "# fix random seed for reproducibility\n",
    "numpy.random.seed(7)"
   ]
  },
  {
   "cell_type": "code",
   "execution_count": 0,
   "metadata": {
    "colab": {},
    "colab_type": "code",
    "id": "UqOFTxer2Uy2"
   },
   "outputs": [],
   "source": [
    "def plt_dynamic(x, vy, ty, ax, colors=['b']):    \n",
    "  ax.plot(x, vy, 'b', label=\"Validation Loss\")    \n",
    "  ax.plot(x, ty, 'r', label=\"Train Loss\")    \n",
    "  plt.legend()    \n",
    "  plt.grid()    \n",
    "  fig.canvas.draw()\n"
   ]
  },
  {
   "cell_type": "code",
   "execution_count": 0,
   "metadata": {
    "colab": {
     "base_uri": "https://localhost:8080/",
     "height": 799
    },
    "colab_type": "code",
    "id": "iMMBvrF04Cgk",
    "outputId": "6282794e-3fcf-4c10-db05-674df88d127c"
   },
   "outputs": [
    {
     "name": "stdout",
     "output_type": "stream",
     "text": [
      "(61441, 600)\n",
      "[   0    0    0    0    0    0    0    0    0    0    0    0    0    0\n",
      "    0    0    0    0    0    0    0    0    0    0    0    0    0    0\n",
      "    0    0    0    0    0    0    0    0    0    0    0    0    0    0\n",
      "    0    0    0    0    0    0    0    0    0    0    0    0    0    0\n",
      "    0    0    0    0    0    0    0    0    0    0    0    0    0    0\n",
      "    0    0    0    0    0    0    0    0    0    0    0    0    0    0\n",
      "    0    0    0    0    0    0    0    0    0    0    0    0    0    0\n",
      "    0    0    0    0    0    0    0    0    0    0    0    0    0    0\n",
      "    0    0    0    0    0    0    0    0    0    0    0    0    0    0\n",
      "    0    0    0    0    0    0    0    0    0    0    0    0    0    0\n",
      "    0    0    0    0    0    0    0    0    0    0    0    0    0    0\n",
      "    0    0    0    0    0    0    0    0    0    0    0    0    0    0\n",
      "    0    0    0    0    0    0    0    0    0    0    0    0    0    0\n",
      "    0    0    0    0    0    0    0    0    0    0    0    0    0    0\n",
      "    0    0    0    0    0    0    0    0    0    0    0    0    0    0\n",
      "    0    0    0    0    0    0    0    0    0    0    0    0    0    0\n",
      "    0    0    0    0    0    0    0    0    0    0    0    0    0    0\n",
      "    0    0    0    0    0    0    0    0    0    0    0    0    0    0\n",
      "    0    0    0    0    0    0    0    0    0    0    0    0    0    0\n",
      "    0    0    0    0    0    0    0    0    0    0    0    0    0    0\n",
      "    0    0    0    0    0    0    0    0    0    0    0    0    0    0\n",
      "    0    0    0    0    0    0    0    0    0    0    0    0    0    0\n",
      "    0    0    0    0    0    0    0    0    0    0    0    0    0    0\n",
      "    0    0    0    0    0    0    0    0    0    0    0    0    0    0\n",
      "    0    0    0    0    0    0    0    0    0    0    0    0    0    0\n",
      "    0    0    0    0    0    0    0    0    0    0    0    0    0    0\n",
      "    0    0    0    0    0    0    0    0    0    0    0    0    0    0\n",
      "    0    0    0    0    0    0    0    0    0    0    0    0    0    0\n",
      "    0    0    0    0    0    0    0    0    0    0    0    0    0    0\n",
      "    0    0    0    0    0    0    0    0    0    0    0    0    0    0\n",
      "    0    0    0    0    0    0    0    0    0    0    0    0    0    0\n",
      "    0    0    0    0    0    0    0    0    0    0    0    0    0    0\n",
      "    0    0    0    0    0    0    0    0    0    0    0    0    0    0\n",
      "    0    0    0    0    0    0    0    0    0    0    0    0    0    0\n",
      "    0    0    0    0    0    0    0    0    0    0    0    0    0    0\n",
      "    0    0    0    0    0    0    0    0    0    0    0    0    0    0\n",
      "    0    0    0    0    0    0    0    0    0    0    0    0    0    0\n",
      "    0    0    0    0    0    0    0    0    0    0    0    0    0    0\n",
      "    0    0    0    0    0    0    0    0    0    0    0    0    0    0\n",
      "    0    0    0    0    0    0    0    0    0    0    0    0    0    0\n",
      "    0    0    0    0    0    0    0    0    0    0    0    0    0    0\n",
      "    0    0    0    0    0    0    0    0    0    0    0    0    0    0\n",
      "   69   12  467  443   53 3506 3317 2625   45  837  825 1097]\n"
     ]
    }
   ],
   "source": [
    "# truncate and/or pad input sequences\n",
    "max_review_length = 600\n",
    "X_train = sequence.pad_sequences(X_train, maxlen=max_review_length)\n",
    "X_test = sequence.pad_sequences(X_test, maxlen=max_review_length)\n",
    "\n",
    "print(X_train.shape)\n",
    "print(X_train[1])"
   ]
  },
  {
   "cell_type": "code",
   "execution_count": 0,
   "metadata": {
    "colab": {
     "base_uri": "https://localhost:8080/",
     "height": 464
    },
    "colab_type": "code",
    "id": "AYZ5YcCC4b3y",
    "outputId": "d71b99bf-3fc3-424f-ca7b-02e86e472c6d"
   },
   "outputs": [
    {
     "name": "stdout",
     "output_type": "stream",
     "text": [
      "WARNING:tensorflow:From /usr/local/lib/python3.6/dist-packages/tensorflow/python/framework/op_def_library.py:263: colocate_with (from tensorflow.python.framework.ops) is deprecated and will be removed in a future version.\n",
      "Instructions for updating:\n",
      "Colocations handled automatically by placer.\n",
      "WARNING:tensorflow:From /usr/local/lib/python3.6/dist-packages/keras/backend/tensorflow_backend.py:3445: calling dropout (from tensorflow.python.ops.nn_ops) with keep_prob is deprecated and will be removed in a future version.\n",
      "Instructions for updating:\n",
      "Please use `rate` instead of `keep_prob`. Rate should be set to `rate = 1 - keep_prob`.\n",
      "_________________________________________________________________\n",
      "Layer (type)                 Output Shape              Param #   \n",
      "=================================================================\n",
      "embedding_1 (Embedding)      (None, 600, 32)           1757536   \n",
      "_________________________________________________________________\n",
      "dropout_1 (Dropout)          (None, 600, 32)           0         \n",
      "_________________________________________________________________\n",
      "lstm_1 (LSTM)                (None, 100)               53200     \n",
      "_________________________________________________________________\n",
      "dropout_2 (Dropout)          (None, 100)               0         \n",
      "_________________________________________________________________\n",
      "dense_1 (Dense)              (None, 1)                 101       \n",
      "=================================================================\n",
      "Total params: 1,810,837\n",
      "Trainable params: 1,810,837\n",
      "Non-trainable params: 0\n",
      "_________________________________________________________________\n",
      "None\n"
     ]
    }
   ],
   "source": [
    "# create the model\n",
    "embedding_vector_length = 32\n",
    "model = Sequential()\n",
    "model.add(Embedding(54923, embedding_vector_length, input_length=max_review_length))\n",
    "model.add(Dropout(0.45))\n",
    "model.add(LSTM(100))\n",
    "model.add(Dropout(0.6))\n",
    "model.add(Dense(1, activation='sigmoid'))\n",
    "model.compile(loss='binary_crossentropy', optimizer='adam', metrics=['accuracy'])\n",
    "print(model.summary())\n",
    "#Refer: https://datascience.stackexchange.com/questions/10615/number-of-parameters-in-an-lstm-model"
   ]
  },
  {
   "cell_type": "code",
   "execution_count": 0,
   "metadata": {
    "colab": {
     "base_uri": "https://localhost:8080/",
     "height": 426
    },
    "colab_type": "code",
    "id": "qnmsKcsu4ig9",
    "outputId": "f5fc7dac-f309-46c8-b481-802a2a2d786f"
   },
   "outputs": [
    {
     "name": "stdout",
     "output_type": "stream",
     "text": [
      "Train on 61441 samples, validate on 26332 samples\n",
      "Epoch 1/10\n",
      "61441/61441 [==============================] - 946s 15ms/step - loss: 0.2572 - acc: 0.8991 - val_loss: 0.2110 - val_acc: 0.9160\n",
      "Epoch 2/10\n",
      "61441/61441 [==============================] - 956s 16ms/step - loss: 0.1741 - acc: 0.9342 - val_loss: 0.2367 - val_acc: 0.9082\n",
      "Epoch 3/10\n",
      "61441/61441 [==============================] - 948s 15ms/step - loss: 0.1465 - acc: 0.9454 - val_loss: 0.2168 - val_acc: 0.9103\n",
      "Epoch 4/10\n",
      "61441/61441 [==============================] - 947s 15ms/step - loss: 0.1250 - acc: 0.9545 - val_loss: 0.2273 - val_acc: 0.9161\n",
      "Epoch 5/10\n",
      "61441/61441 [==============================] - 946s 15ms/step - loss: 0.1080 - acc: 0.9617 - val_loss: 0.2775 - val_acc: 0.9097\n",
      "Epoch 6/10\n",
      "61441/61441 [==============================] - 948s 15ms/step - loss: 0.0956 - acc: 0.9656 - val_loss: 0.2482 - val_acc: 0.9059\n",
      "Epoch 7/10\n",
      "61441/61441 [==============================] - 945s 15ms/step - loss: 0.0875 - acc: 0.9691 - val_loss: 0.2936 - val_acc: 0.9017\n",
      "Epoch 8/10\n",
      "61441/61441 [==============================] - 948s 15ms/step - loss: 0.0763 - acc: 0.9731 - val_loss: 0.2918 - val_acc: 0.9090\n",
      "Epoch 9/10\n",
      "61441/61441 [==============================] - 943s 15ms/step - loss: 0.0705 - acc: 0.9749 - val_loss: 0.3269 - val_acc: 0.9071\n",
      "Epoch 10/10\n",
      "61441/61441 [==============================] - 948s 15ms/step - loss: 0.0628 - acc: 0.9775 - val_loss: 0.3284 - val_acc: 0.9055\n",
      "26332/26332 [==============================] - 262s 10ms/step\n",
      "Accuracy: 90.55%\n"
     ]
    }
   ],
   "source": [
    "history=model.fit(X_train, Y_train, epochs=10, batch_size=64,verbose=1,validation_data=(X_test, Y_test))\n",
    "# Final evaluation of the model\n",
    "scores = model.evaluate(X_test, Y_test, verbose=1)\n",
    "print(\"Accuracy: %.2f%%\" % (scores[1]*100))"
   ]
  },
  {
   "cell_type": "code",
   "execution_count": 0,
   "metadata": {
    "colab": {
     "base_uri": "https://localhost:8080/",
     "height": 318
    },
    "colab_type": "code",
    "id": "guBcnTtz22Du",
    "outputId": "7f5f0981-6228-4e32-dd27-854c2027c032"
   },
   "outputs": [
    {
     "name": "stdout",
     "output_type": "stream",
     "text": [
      "Test score: 0.3284348753419158\n",
      "Test accuracy: 0.9055142032598519\n"
     ]
    },
    {
     "data": {
      "image/png": "[encoded data removed]",
      "text/plain": [
       "<Figure size 432x288 with 1 Axes>"
      ]
     },
     "metadata": {
      "tags": []
     },
     "output_type": "display_data"
    }
   ],
   "source": [
    "epochs=10\n",
    "print('Test score:', scores[0]) \n",
    "print('Test accuracy:', scores[1])\n",
    " \n",
    "fig,ax = plt.subplots(1,1) \n",
    "ax.set_xlabel('epoch') \n",
    "ax.set_ylabel('Categorical Crossentropy Loss')\n",
    " \n",
    "# list of epoch numbers \n",
    "x = list(range(1,epochs+1))\n",
    "\n",
    "vy = history.history['val_loss'] \n",
    "ty = history.history['loss'] \n",
    "plt_dynamic(x, vy, ty, ax)\n",
    " "
   ]
  },
  {
   "cell_type": "code",
   "execution_count": 0,
   "metadata": {
    "colab": {
     "base_uri": "https://localhost:8080/",
     "height": 372
    },
    "colab_type": "code",
    "id": "VHQ9UPxgwqJz",
    "outputId": "c38b4ce9-2044-4973-8d00-09e59e09dcbe"
   },
   "outputs": [
    {
     "name": "stdout",
     "output_type": "stream",
     "text": [
      "_________________________________________________________________\n",
      "Layer (type)                 Output Shape              Param #   \n",
      "=================================================================\n",
      "embedding_9 (Embedding)      (None, 600, 32)           1757536   \n",
      "_________________________________________________________________\n",
      "dropout_13 (Dropout)         (None, 600, 32)           0         \n",
      "_________________________________________________________________\n",
      "lstm_14 (LSTM)               (None, 600, 100)          53200     \n",
      "_________________________________________________________________\n",
      "lstm_15 (LSTM)               (None, 100)               80400     \n",
      "_________________________________________________________________\n",
      "dropout_14 (Dropout)         (None, 100)               0         \n",
      "_________________________________________________________________\n",
      "dense_4 (Dense)              (None, 1)                 101       \n",
      "=================================================================\n",
      "Total params: 1,891,237\n",
      "Trainable params: 1,891,237\n",
      "Non-trainable params: 0\n",
      "_________________________________________________________________\n",
      "None\n"
     ]
    }
   ],
   "source": [
    "#Reference:https://github.com/keras-team/keras/issues/7403\n",
    "# create the model\n",
    "embedding_vector_length = 32\n",
    "model = Sequential()\n",
    "model.add(Embedding(54923, embedding_vector_length, input_length=max_review_length))\n",
    "model.add(Dropout(0.6))\n",
    "model.add(LSTM(100,return_sequences=True))\n",
    "model.add(LSTM(100))\n",
    "model.add(Dropout(0.6))\n",
    "model.add(Dense(1, activation='sigmoid'))\n",
    "model.compile(loss='binary_crossentropy', optimizer='adam', metrics=['accuracy'])\n",
    "print(model.summary())"
   ]
  },
  {
   "cell_type": "code",
   "execution_count": 52,
   "metadata": {
    "colab": {
     "base_uri": "https://localhost:8080/",
     "height": 426
    },
    "colab_type": "code",
    "id": "rCGEvvU45bc6",
    "outputId": "fe86b405-266d-4614-80ad-5acf58e56e6e"
   },
   "outputs": [
    {
     "name": "stdout",
     "output_type": "stream",
     "text": [
      "Train on 61441 samples, validate on 26332 samples\n",
      "Epoch 1/10\n",
      "61441/61441 [==============================] - 1904s 31ms/step - loss: 0.2684 - acc: 0.8963 - val_loss: 0.2173 - val_acc: 0.9146\n",
      "Epoch 2/10\n",
      "61441/61441 [==============================] - 1891s 31ms/step - loss: 0.1838 - acc: 0.9287 - val_loss: 0.2091 - val_acc: 0.9163\n",
      "Epoch 3/10\n",
      "61441/61441 [==============================] - 1887s 31ms/step - loss: 0.1546 - acc: 0.9420 - val_loss: 0.2214 - val_acc: 0.9157\n",
      "Epoch 4/10\n",
      "61441/61441 [==============================] - 1884s 31ms/step - loss: 0.1394 - acc: 0.9484 - val_loss: 0.2098 - val_acc: 0.9162\n",
      "Epoch 5/10\n",
      "61441/61441 [==============================] - 1863s 30ms/step - loss: 0.1250 - acc: 0.9530 - val_loss: 0.2200 - val_acc: 0.9139\n",
      "Epoch 6/10\n",
      "61441/61441 [==============================] - 1892s 31ms/step - loss: 0.1145 - acc: 0.9575 - val_loss: 0.2188 - val_acc: 0.9100\n",
      "Epoch 7/10\n",
      "61441/61441 [==============================] - 1976s 32ms/step - loss: 0.1124 - acc: 0.9592 - val_loss: 0.2572 - val_acc: 0.9072\n",
      "Epoch 8/10\n",
      "61441/61441 [==============================] - 1919s 31ms/step - loss: 0.0984 - acc: 0.9643 - val_loss: 0.2493 - val_acc: 0.9151\n",
      "Epoch 9/10\n",
      "61441/61441 [==============================] - 1906s 31ms/step - loss: 0.0908 - acc: 0.9667 - val_loss: 0.2630 - val_acc: 0.9151\n",
      "Epoch 10/10\n",
      "61441/61441 [==============================] - 1890s 31ms/step - loss: 0.0835 - acc: 0.9696 - val_loss: 0.2600 - val_acc: 0.9121\n",
      "26332/26332 [==============================] - 517s 20ms/step\n",
      "Accuracy: 91.21%\n"
     ]
    }
   ],
   "source": [
    "history=model.fit(X_train, Y_train, epochs=10, batch_size=64,verbose=1,validation_data=(X_test, Y_test))\n",
    "# Final evaluation of the model\n",
    "scores = model.evaluate(X_test, Y_test, verbose=1)\n",
    "print(\"Accuracy: %.2f%%\" % (scores[1]*100))"
   ]
  },
  {
   "cell_type": "code",
   "execution_count": 53,
   "metadata": {
    "colab": {
     "base_uri": "https://localhost:8080/",
     "height": 318
    },
    "colab_type": "code",
    "id": "FJ05FD2W1TJu",
    "outputId": "187ce4ac-2823-4fe1-86fd-1e069c87dd29"
   },
   "outputs": [
    {
     "name": "stdout",
     "output_type": "stream",
     "text": [
      "Test score: 0.25996791752917997\n",
      "Test accuracy: 0.912122132793379\n"
     ]
    },
    {
     "data": {
      "image/png": "[encoded data removed]",
      "text/plain": [
       "<Figure size 432x288 with 1 Axes>"
      ]
     },
     "metadata": {
      "tags": []
     },
     "output_type": "display_data"
    }
   ],
   "source": [
    "epochs=10\n",
    "print('Test score:', scores[0]) \n",
    "print('Test accuracy:', scores[1])\n",
    " \n",
    "fig,ax = plt.subplots(1,1) \n",
    "ax.set_xlabel('epoch') \n",
    "ax.set_ylabel('Categorical Crossentropy Loss')\n",
    " \n",
    "# list of epoch numbers \n",
    "x = list(range(1,epochs+1))\n",
    "\n",
    "vy = history.history['val_loss'] \n",
    "ty = history.history['loss'] \n",
    "plt_dynamic(x, vy, ty, ax)\n",
    " "
   ]
  },
  {
   "cell_type": "code",
   "execution_count": 21,
   "metadata": {
    "colab": {},
    "colab_type": "code",
    "id": "raIRpb_ns_U6"
   },
   "outputs": [
    {
     "name": "stdout",
     "output_type": "stream",
     "text": [
      "+-----------------------------------+-----------------+---------------+\n",
      "| No.of.layers and no.of.lstm.units | Dropouts values | test_accuracy |\n",
      "+-----------------------------------+-----------------+---------------+\n",
      "|      one layer with 100 units     |    (0.45,0.6)   |     0.9051    |\n",
      "|     two layers with 100 units     |    (0.6,0.6)    |     0.9121    |\n",
      "+-----------------------------------+-----------------+---------------+\n"
     ]
    }
   ],
   "source": [
    "# reference from \"http://zetcode.com/python/prettytable/\"\n",
    "from prettytable import PrettyTable\n",
    "t = PrettyTable()\n",
    "t.field_names = [\"No.of.layers and no.of.lstm.units\",\"Dropouts values\", \"test_accuracy\" ]\n",
    "t.add_row([\"one layer with 100 units\", \"(0.45,0.6)\",0.9051])\n",
    "t.add_row([\"two layers with 100 units\", \"(0.6,0.6)\",0.9121])\n",
    "print(t)"
   ]
  },
  {
   "cell_type": "code",
   "execution_count": null,
   "metadata": {},
   "outputs": [],
   "source": []
  }
 ],
 "metadata": {
  "accelerator": "GPU",
  "colab": {
   "collapsed_sections": [],
   "name": "Copy of finally_lstm_done",
   "provenance": [],
   "version": "0.3.2"
  },
  "kernelspec": {
   "display_name": "Python 3",
   "language": "python",
   "name": "python3"
  },
  "language_info": {
   "codemirror_mode": {
    "name": "ipython",
    "version": 3
   },
   "file_extension": ".py",
   "mimetype": "text/x-python",
   "name": "python",
   "nbconvert_exporter": "python",
   "pygments_lexer": "ipython3",
   "version": "3.6.5"
  }
 },
 "nbformat": 4,
 "nbformat_minor": 1
}
